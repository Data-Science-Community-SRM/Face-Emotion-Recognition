{
  "nbformat": 4,
  "nbformat_minor": 0,
  "metadata": {
    "colab": {
      "name": "Data Split.ipynb",
      "provenance": [],
      "collapsed_sections": []
    },
    "kernelspec": {
      "name": "python3",
      "display_name": "Python 3"
    }
  },
  "cells": [
    {
      "cell_type": "code",
      "metadata": {
        "id": "ZSwy2P4qvhIK",
        "colab_type": "code",
        "colab": {}
      },
      "source": [
        "!unzip '/content/drive/My Drive/data.zip' -d '/content/drive/My Drive/'"
      ],
      "execution_count": null,
      "outputs": []
    },
    {
      "cell_type": "code",
      "metadata": {
        "id": "moePc8PIxRoS",
        "colab_type": "code",
        "colab": {}
      },
      "source": [
        "angry='/content/drive/My Drive/data/angry'\n",
        "happy='/content/drive/My Drive/data/happy'\n",
        "neutral='/content/drive/My Drive/data/neutral'\n",
        "sad='/content/drive/My Drive/data/sad'\n"
      ],
      "execution_count": null,
      "outputs": []
    },
    {
      "cell_type": "code",
      "metadata": {
        "id": "q-H-yHKQObFw",
        "colab_type": "code",
        "colab": {}
      },
      "source": [
        "import shutil\n",
        "import os\n",
        "i=0\n",
        "for file in os.listdir(happy):\n",
        "  if (i<=2790):\n",
        "    shutil.move('/content/drive/My Drive/data/happy/'+file, \"/content/drive/My Drive/Extra_happy_images\") \n",
        "  else:\n",
        "    break\n",
        "  i+=1"
      ],
      "execution_count": null,
      "outputs": []
    },
    {
      "cell_type": "code",
      "metadata": {
        "id": "NgyqdEEK5F8E",
        "colab_type": "code",
        "colab": {
          "base_uri": "https://localhost:8080/",
          "height": 34
        },
        "outputId": "4ef6acc7-d535-4fdb-aa32-1e9a3ac94b57"
      },
      "source": [
        "import os\n",
        "a=0\n",
        "f=0\n",
        "h=0\n",
        "n=0\n",
        "sa=0\n",
        "su=0\n",
        "for files in os.listdir(angry):\n",
        "  a+=1\n",
        "\n",
        "for files in os.listdir(happy):\n",
        "  h+=1\n",
        "for files in os.listdir(neutral):\n",
        "  n+=1\n",
        "for files in os.listdir(sad):\n",
        "  sa+=1\n",
        "\n",
        "print(a,f,h,n,sa,su)"
      ],
      "execution_count": null,
      "outputs": [
        {
          "output_type": "stream",
          "text": [
            "4953 5120 6198 6198 6077 4002\n"
          ],
          "name": "stdout"
        }
      ]
    },
    {
      "cell_type": "code",
      "metadata": {
        "id": "MVMUfM2u5UI1",
        "colab_type": "code",
        "colab": {}
      },
      "source": [
        "import shutil\n",
        "train=0.8*sa\n",
        "test=0.1*sa\n",
        "val=0.1*sa\n",
        "\n",
        "i=0\n",
        "for file in os.listdir(sad):\n",
        "  if (i<=train):\n",
        "    shutil.move('/content/drive/My Drive/data/sad/'+file, \"/content/drive/My Drive/final_data_v2/Train/sad\") \n",
        "  elif (i<=train+test):\n",
        "    shutil.move('/content/drive/My Drive/data/sad/'+file, \"/content/drive/My Drive/final_data_v2/Validation/sad\") \n",
        "  else:\n",
        "    shutil.move('/content/drive/My Drive/data/sad/'+file, \"/content/drive/My Drive/final_data_v2/Test/sad\") \n",
        "  i+=1"
      ],
      "execution_count": null,
      "outputs": []
    },
    {
      "cell_type": "code",
      "metadata": {
        "id": "JsA81Ei5EVTT",
        "colab_type": "code",
        "colab": {
          "base_uri": "https://localhost:8080/",
          "height": 34
        },
        "outputId": "fa6099ff-1107-4776-e3a5-8fa1b83b5db7"
      },
      "source": [
        "k=0\n",
        "for files in os.listdir(\"/content/drive/My Drive/final_data_v2/Test/sad\"):\n",
        "  k+=1\n",
        "print(k)"
      ],
      "execution_count": null,
      "outputs": [
        {
          "output_type": "stream",
          "text": [
            "607\n"
          ],
          "name": "stdout"
        }
      ]
    },
    {
      "cell_type": "code",
      "metadata": {
        "id": "mAPsK9W6LJyf",
        "colab_type": "code",
        "colab": {}
      },
      "source": [
        "angry='/content/drive/My Drive/final_data_v2/Validation/angry'\n",
        "happy='/content/drive/My Drive/final_data_v2/Validation/happy'\n",
        "neutral='/content/drive/My Drive/final_data_v2/Validation/neutral'\n",
        "sad='/content/drive/My Drive/final_data_v2/Validation/sad'\n"
      ],
      "execution_count": null,
      "outputs": []
    },
    {
      "cell_type": "code",
      "metadata": {
        "id": "CrnGaZKkGArV",
        "colab_type": "code",
        "colab": {
          "base_uri": "https://localhost:8080/",
          "height": 34
        },
        "outputId": "d4ad37e6-62f3-4f79-c591-35e26599d1c3"
      },
      "source": [
        "import os\n",
        "a=0\n",
        "f=0\n",
        "h=0\n",
        "n=0\n",
        "sa=0\n",
        "su=0\n",
        "for files in os.listdir(angry):\n",
        "  a+=1\n",
        "\n",
        "for files in os.listdir(happy):\n",
        "  h+=1\n",
        "for files in os.listdir(neutral):\n",
        "  n+=1\n",
        "for files in os.listdir(sad):\n",
        "  sa+=1\n",
        "\n",
        "print(a,f,h,n,sa,su,\" = \",a+f+h+n+sa+su)"
      ],
      "execution_count": null,
      "outputs": [
        {
          "output_type": "stream",
          "text": [
            "495 512 620 620 608 400  =  3255\n"
          ],
          "name": "stdout"
        }
      ]
    }
  ]
}