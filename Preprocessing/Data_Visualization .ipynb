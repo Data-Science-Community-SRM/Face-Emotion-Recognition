{
  "nbformat": 4,
  "nbformat_minor": 0,
  "metadata": {
    "colab": {
      "name": "DataVisualization.ipynb",
      "provenance": [],
      "collapsed_sections": []
    },
    "kernelspec": {
      "name": "python3",
      "display_name": "Python 3"
    }
  },
  "cells": [
    {
      "cell_type": "code",
      "metadata": {
        "id": "1o9J1Jl1_nlp",
        "colab_type": "code",
        "colab": {}
      },
      "source": [
        "import os\n",
        "import matplotlib.pyplot as plt"
      ],
      "execution_count": 3,
      "outputs": []
    },
    {
      "cell_type": "code",
      "metadata": {
        "id": "3K7NVuj3__YE",
        "colab_type": "code",
        "colab": {}
      },
      "source": [
        "classes=['Angry','Happy','Neutral','Sad']"
      ],
      "execution_count": 4,
      "outputs": []
    },
    {
      "cell_type": "code",
      "metadata": {
        "id": "jWTG_AgZcqW8",
        "colab_type": "code",
        "colab": {}
      },
      "source": [
        "! pip install -q kaggle"
      ],
      "execution_count": 5,
      "outputs": []
    },
    {
      "cell_type": "code",
      "metadata": {
        "id": "zQzmd9j0cpWA",
        "colab_type": "code",
        "colab": {}
      },
      "source": [
        "!mkdir ~/.kaggle\n",
        "!cp kaggle.json ~/.kaggle/\n",
        "! chmod 600 ~/.kaggle/kaggle.json"
      ],
      "execution_count": 6,
      "outputs": []
    },
    {
      "cell_type": "code",
      "metadata": {
        "id": "i7NTbqhFAEr6",
        "colab_type": "code",
        "colab": {
          "base_uri": "https://localhost:8080/",
          "height": 67
        },
        "outputId": "d180f95b-f007-4e7e-bbb4-e274b5bda231"
      },
      "source": [
        "!kaggle datasets download -d bhavya1600/fer-dsc-v3"
      ],
      "execution_count": 7,
      "outputs": [
        {
          "output_type": "stream",
          "text": [
            "Downloading fer-dsc-v3.zip to /content\n",
            " 89% 97.0M/109M [00:04<00:00, 17.5MB/s]\n",
            "100% 109M/109M [00:04<00:00, 23.2MB/s] \n"
          ],
          "name": "stdout"
        }
      ]
    },
    {
      "cell_type": "code",
      "metadata": {
        "id": "eJmnCBkPdRtm",
        "colab_type": "code",
        "colab": {}
      },
      "source": [
        "\n",
        "import zipfile\n",
        "\n",
        "local_zip_file = '/content/fer-dsc-v3.zip'\n",
        "\n",
        "zip_refs = zipfile.ZipFile(local_zip_file, 'r')\n",
        "\n",
        "zip_refs.extractall('/content')\n",
        "zip_refs.close()"
      ],
      "execution_count": 8,
      "outputs": []
    },
    {
      "cell_type": "code",
      "metadata": {
        "id": "NNFW_X9CAN5_",
        "colab_type": "code",
        "colab": {}
      },
      "source": [
        "angry_validation='/content/final_data_v5/final_data_v5/Validation/angry'\n",
        "happy_validation='/content/final_data_v5/final_data_v5/Validation/happy'\n",
        "neutral_validation='/content/final_data_v5/final_data_v5/Validation/neutral'\n",
        "sad_validation='/content/final_data_v5/final_data_v5/Validation/sad'\n",
        "\n",
        "angry_in_val= len([files for files in os.listdir(angry_validation)])\n",
        "happy_in_val= len([files for files in os.listdir(happy_validation)])\n",
        "neutral_in_val= len([files for files in os.listdir(neutral_validation)])\n",
        "sad_in_val= len([files for files in os.listdir(sad_validation)])\n"
      ],
      "execution_count": 9,
      "outputs": []
    },
    {
      "cell_type": "code",
      "metadata": {
        "id": "mZU_-aE6dQTs",
        "colab_type": "code",
        "colab": {}
      },
      "source": [
        ""
      ],
      "execution_count": null,
      "outputs": []
    },
    {
      "cell_type": "code",
      "metadata": {
        "id": "Mr6NtiH1AdwO",
        "colab_type": "code",
        "colab": {}
      },
      "source": [
        "angry_Train='/content/final_data_v5/final_data_v5/Train/angry'\n",
        "happy_Train='/content/final_data_v5/final_data_v5/Train/happy'\n",
        "neutral_Train='/content/final_data_v5/final_data_v5/Train/neutral/neutral'\n",
        "sad_Train='/content/final_data_v5/final_data_v5/Train/sad'\n",
        "\n",
        "angry_in_Train= len([files for files in os.listdir(angry_Train)])\n",
        "happy_in_Train= len([files for files in os.listdir(happy_Train)])\n",
        "neutral_in_Train= len([files for files in os.listdir(neutral_Train)])\n",
        "sad_in_Train= len([files for files in os.listdir(sad_Train)])\n"
      ],
      "execution_count": 19,
      "outputs": []
    },
    {
      "cell_type": "code",
      "metadata": {
        "id": "Grl1agmfA5AM",
        "colab_type": "code",
        "colab": {}
      },
      "source": [
        "angry_Test='/content/final_data_v5/final_data_v5/Test/angry'\n",
        "happy_Test='/content/final_data_v5/final_data_v5/Test/happy'\n",
        "neutral_Test='/content/final_data_v5/final_data_v5/Test/neutral'\n",
        "sad_Test='/content/final_data_v5/final_data_v5/Test/sad'\n",
        "\n",
        "angry_in_Test= len([files for files in os.listdir(angry_Test)])\n",
        "happy_in_Test= len([files for files in os.listdir(happy_Test)])\n",
        "neutral_in_Test= len([files for files in os.listdir(neutral_Test)])\n",
        "sad_in_Test= len([files for files in os.listdir(sad_Test)])\n"
      ],
      "execution_count": 20,
      "outputs": []
    },
    {
      "cell_type": "code",
      "metadata": {
        "id": "S1FDzW5MCw_J",
        "colab_type": "code",
        "colab": {
          "base_uri": "https://localhost:8080/",
          "height": 312
        },
        "outputId": "92fa6b14-d9a1-452a-d797-17f3865a62e1"
      },
      "source": [
        "plt.bar(classes, [angry_in_Test,happy_in_Test,neutral_in_Test,sad_in_Test], color ='blue',  \n",
        "        width = 0.7) \n",
        "print([angry_in_Test,happy_in_Test,neutral_in_Test,sad_in_Test])\n",
        "plt.xlabel(\"Classes\") \n",
        "plt.ylabel(\"Number of images\") \n",
        "plt.title(\"Test Set\") \n",
        "plt.show() "
      ],
      "execution_count": 21,
      "outputs": [
        {
          "output_type": "stream",
          "text": [
            "[384, 435, 448, 464]\n"
          ],
          "name": "stdout"
        },
        {
          "output_type": "display_data",
          "data": {
            "image/png": "[encoded data removed]",
            "text/plain": [
              "<Figure size 432x288 with 1 Axes>"
            ]
          },
          "metadata": {
            "tags": [],
            "needs_background": "light"
          }
        }
      ]
    },
    {
      "cell_type": "code",
      "metadata": {
        "id": "92YVUx57DYF8",
        "colab_type": "code",
        "colab": {
          "base_uri": "https://localhost:8080/",
          "height": 312
        },
        "outputId": "2a899c5e-d507-4ef7-c75e-02bb417286d2"
      },
      "source": [
        "plt.bar(classes, [angry_in_Train,happy_in_Train,neutral_in_Train,sad_in_Train], color ='blue',  \n",
        "        width = 0.7) \n",
        "print(angry_in_Train,happy_in_Train,neutral_in_Train,sad_in_Train)  \n",
        "plt.xlabel(\"Classes\") \n",
        "plt.ylabel(\"Number of images\") \n",
        "plt.title(\"Training Set\") \n",
        "plt.show() "
      ],
      "execution_count": 22,
      "outputs": [
        {
          "output_type": "stream",
          "text": [
            "3096 3428 3625 3506\n"
          ],
          "name": "stdout"
        },
        {
          "output_type": "display_data",
          "data": {
            "image/png": "[encoded data removed]",
            "text/plain": [
              "<Figure size 432x288 with 1 Axes>"
            ]
          },
          "metadata": {
            "tags": [],
            "needs_background": "light"
          }
        }
      ]
    },
    {
      "cell_type": "code",
      "metadata": {
        "id": "eJlcCFCYDktW",
        "colab_type": "code",
        "colab": {
          "base_uri": "https://localhost:8080/",
          "height": 312
        },
        "outputId": "b1c6ed2d-fdbc-4434-d29e-ceb2b2444003"
      },
      "source": [
        "plt.bar(classes, [angry_in_val,happy_in_val,neutral_in_val,sad_in_val], color ='blue',  \n",
        "        width = 0.7) \n",
        "print([angry_in_val,happy_in_val,neutral_in_val,sad_in_val])\n",
        "  \n",
        "plt.xlabel(\"Classes\") \n",
        "plt.ylabel(\"Number of images\") \n",
        "plt.title(\"Validation Set\") \n",
        "plt.show() "
      ],
      "execution_count": 23,
      "outputs": [
        {
          "output_type": "stream",
          "text": [
            "[384, 432, 448, 432]\n"
          ],
          "name": "stdout"
        },
        {
          "output_type": "display_data",
          "data": {
            "image/png": "[encoded data removed]",
            "text/plain": [
              "<Figure size 432x288 with 1 Axes>"
            ]
          },
          "metadata": {
            "tags": [],
            "needs_background": "light"
          }
        }
      ]
    },
    {
      "cell_type": "code",
      "metadata": {
        "id": "b46p8HudDtso",
        "colab_type": "code",
        "colab": {}
      },
      "source": [
        "Training_data_size=angry_in_Train+happy_in_Train+neutral_in_Train+sad_in_Train\n",
        "Testing_data_size=angry_in_Test+happy_in_Test+neutral_in_Test+sad_in_Test\n",
        "Validation_data_size=angry_in_val+happy_in_val+neutral_in_val+sad_in_val\n",
        "\n",
        "Total=Training_data_size+Testing_data_size+Validation_data_size\n",
        "\n"
      ],
      "execution_count": 25,
      "outputs": []
    },
    {
      "cell_type": "code",
      "metadata": {
        "id": "6mlndXy5ILtY",
        "colab_type": "code",
        "colab": {
          "base_uri": "https://localhost:8080/",
          "height": 298
        },
        "outputId": "cc7762b5-bfdb-4fa4-9cbb-8e1659eed3b6"
      },
      "source": [
        "labels = ['Train', 'Test', 'Validation']\n",
        "sizes = [Training_data_size,Testing_data_size , Validation_data_size]\n",
        "\n",
        "print(\"Number of images in training data : \",Training_data_size)\n",
        "print(\"Number of images in testing data : \",Testing_data_size)\n",
        "print(\"Number of images in validation data : \",Validation_data_size)\n",
        "fig1, ax1 = plt.subplots()\n",
        "ax1.pie(sizes,labels=labels, autopct='%1.1f%%',shadow=True, startangle=90)\n",
        "ax1.axis('equal') \n",
        "plt.show()"
      ],
      "execution_count": 26,
      "outputs": [
        {
          "output_type": "stream",
          "text": [
            "Number of images in training data :  13655\n",
            "Number of images in testing data :  1731\n",
            "Number of images in validation data :  1696\n"
          ],
          "name": "stdout"
        },
        {
          "output_type": "display_data",
          "data": {
            "image/png": "[encoded data removed]",
            "text/plain": [
              "<Figure size 432x288 with 1 Axes>"
            ]
          },
          "metadata": {
            "tags": []
          }
        }
      ]
    },
    {
      "cell_type": "code",
      "metadata": {
        "id": "Qv4OKKLDeyhY",
        "colab_type": "code",
        "colab": {}
      },
      "source": [
        ""
      ],
      "execution_count": null,
      "outputs": []
    }
  ]
}