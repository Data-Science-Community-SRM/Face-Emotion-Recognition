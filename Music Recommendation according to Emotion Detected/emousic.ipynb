{
  "nbformat": 4,
  "nbformat_minor": 0,
  "metadata": {
    "colab": {
      "name": "emousic.ipynb",
      "provenance": [],
      "collapsed_sections": []
    },
    "kernelspec": {
      "name": "python3",
      "display_name": "Python 3"
    }
  },
  "cells": [
    {
      "cell_type": "code",
      "metadata": {
        "id": "4EiOr5FqJ_jS"
      },
      "source": [
        "from tensorflow.keras.models import model_from_json\n",
        "import numpy as np\n",
        "from PIL import Image, ImageOps\n",
        "import cv2\n",
        "import streamlit as st\n",
        "import tensorflow as tf\n",
        "from tensorflow.keras.models import model_from_json\n",
        "from tensorflow.keras.preprocessing import image\n",
        "from tensorflow.keras.preprocessing.image import img_to_array, array_to_img"
      ],
      "execution_count": null,
      "outputs": []
    },
    {
      "cell_type": "code",
      "metadata": {
        "id": "CcEwgddkbVZM",
        "outputId": "bcafdbf2-4834-4ae0-b771-d0b637d6145d",
        "colab": {
          "base_uri": "https://localhost:8080/"
        }
      },
      "source": [
        "from google.colab import drive\n",
        "drive.mount('/content/drive')"
      ],
      "execution_count": null,
      "outputs": [
        {
          "output_type": "stream",
          "text": [
            "Mounted at /content/drive\n"
          ],
          "name": "stdout"
        }
      ]
    },
    {
      "cell_type": "code",
      "metadata": {
        "id": "dO1YVCf0TTi_"
      },
      "source": [
        "from google.colab.patches import cv2_imshow"
      ],
      "execution_count": null,
      "outputs": []
    },
    {
      "cell_type": "code",
      "metadata": {
        "id": "8Xh9vYHYKSXC"
      },
      "source": [
        "model = model_from_json(open(\"/content/drive/My Drive/Emousic/vgg16_model.json\", \"r\").read())\n",
        "model.load_weights('/content/drive/My Drive/Emousic/vgg16_model_weights.h5')"
      ],
      "execution_count": null,
      "outputs": []
    },
    {
      "cell_type": "code",
      "metadata": {
        "id": "QfuZgMH_a06B"
      },
      "source": [
        "from IPython.display import display, Javascript\n",
        "from google.colab.output import eval_js\n",
        "from base64 import b64decode\n",
        "\n",
        "def take_photo(filename='photo.jpg', quality=0.8):\n",
        "  js = Javascript('''\n",
        "    async function takePhoto(quality) {\n",
        "      const div = document.createElement('div');\n",
        "      const capture = document.createElement('button');\n",
        "      capture.textContent = 'Capture';\n",
        "      div.appendChild(capture);\n",
        "\n",
        "      const video = document.createElement('video');\n",
        "      video.style.display = 'block';\n",
        "      const stream = await navigator.mediaDevices.getUserMedia({video: true});\n",
        "\n",
        "      document.body.appendChild(div);\n",
        "      div.appendChild(video);\n",
        "      video.srcObject = stream;\n",
        "      await video.play();\n",
        "\n",
        "      // Resize the output to fit the video element.\n",
        "      google.colab.output.setIframeHeight(document.documentElement.scrollHeight, true);\n",
        "\n",
        "      // Wait for Capture to be clicked.\n",
        "      await new Promise((resolve) => capture.onclick = resolve);\n",
        "\n",
        "      const canvas = document.createElement('canvas');\n",
        "      canvas.width = video.videoWidth;\n",
        "      canvas.height = video.videoHeight;\n",
        "      canvas.getContext('2d').drawImage(video, 0, 0);\n",
        "      stream.getVideoTracks()[0].stop();\n",
        "      div.remove();\n",
        "      return canvas.toDataURL('image/jpeg', quality);\n",
        "    }\n",
        "    ''')\n",
        "  display(js)\n",
        "  data = eval_js('takePhoto({})'.format(quality))\n",
        "  binary = b64decode(data.split(',')[1])\n",
        "  with open(filename, 'wb') as f:\n",
        "    f.write(binary)\n",
        "  return filename"
      ],
      "execution_count": null,
      "outputs": []
    },
    {
      "cell_type": "code",
      "metadata": {
        "id": "rdHX1G4ua05J"
      },
      "source": [
        "from IPython.display import Image\n",
        "try:\n",
        "  filename = take_photo()\n",
        "  print('Saved to {}'.format(filename))\n",
        "  \n",
        "  # Show the image which was just taken.\n",
        "  display(Image(filename))\n",
        "except Exception as err:\n",
        "  # Errors will be thrown if the user does not have a webcam or if they do not\n",
        "  # grant the page permission to access it.\n",
        "  print(str(err))"
      ],
      "execution_count": null,
      "outputs": []
    },
    {
      "cell_type": "code",
      "metadata": {
        "id": "Bk9lenRtSH93"
      },
      "source": [
        "image_data = Image.open(r'/content/sad.jpg')"
      ],
      "execution_count": null,
      "outputs": []
    },
    {
      "cell_type": "code",
      "metadata": {
        "id": "VwFH7kzgKYsK",
        "outputId": "efc95f14-833d-4abe-91fe-889b98673f68",
        "colab": {
          "base_uri": "https://localhost:8080/",
          "height": 218
        }
      },
      "source": [
        "size = (150, 150)\n",
        "image = ImageOps.fit(image_data, size, Image.ANTIALIAS)\n",
        "image = np.asarray(image)\n",
        "gray_img = cv2.cvtColor(image, cv2.COLOR_BGR2RGB)\n",
        "cv2_imshow(gray_img)\n",
        "face_haar_cascade = cv2.CascadeClassifier(\n",
        "        '/content/drive/My Drive/Emousic/haarcascade_frontalface_default.xml')\n",
        "faces_detected = face_haar_cascade.detectMultiScale(gray_img, 1.32, 5)\n",
        "print(faces_detected)\n",
        "for (x, y, w, h) in faces_detected:\n",
        "        print('hi')\n",
        "        roi_gray = gray_img[y:y+w, x:x+h]\n",
        "        roi_gray = cv2.resize(roi_gray, (48, 48))\n",
        "        img_pixels = img_to_array(roi_gray)\n",
        "        img_pixels = np.expand_dims(img_pixels, axis=0)\n",
        "        img_pixels /= 255\n",
        "        predictions = model.predict(img_pixels)\n",
        "        max_index = np.argmax(predictions[0])\n",
        "        emotions = ('ANGRY 😡', 'HAPPY 😀', 'NEUTRAL 😐', 'SAD 🙁')\n",
        "        predicted = emotions[max_index]\n",
        "        print(predicted)\n"
      ],
      "execution_count": null,
      "outputs": [
        {
          "output_type": "display_data",
          "data": {
            "image/png": "[encoded data removed]",
            "text/plain": [
              "<PIL.Image.Image image mode=RGB size=150x150 at 0x7F0C672026D8>"
            ]
          },
          "metadata": {
            "tags": []
          }
        },
        {
          "output_type": "stream",
          "text": [
            "[[47 17 93 93]]\n",
            "hi\n",
            "SAD 🙁\n"
          ],
          "name": "stdout"
        }
      ]
    },
    {
      "cell_type": "code",
      "metadata": {
        "id": "py73HrHBzh3y",
        "outputId": "96bfc206-e2ef-473f-c6a1-e2557ee0ee1f",
        "colab": {
          "base_uri": "https://localhost:8080/"
        }
      },
      "source": [
        "\n",
        "from selenium import webdriver\n",
        "\n",
        "emotion = predicted\n",
        "\n",
        "if emotion == \"HAPPY 😀\":\n",
        "    wrds = [\"The cure- Friday i'm in love\", \"The Beatles i want to hold your hand\", \"Beautiful day\"]\n",
        "    kwrd = [\"Cure\", \"Beatles\", \"Beautiful\"]\n",
        "    options = webdriver.ChromeOptions()\n",
        "    options.add_argument(\"start-maximized\")\n",
        "    options.add_argument(\"disable-infobars\")\n",
        "    options.add_argument(\"--disable-extensions\")\n",
        "    wd = webdriver.Chrome('chromedriver',chrome_options=chrome_options)\n",
        "    for i, j in zip(wrds, kwrd):\n",
        "       wd.get(\"https://www.youtube.com/\")\n",
        "       WebDriverWait(wd, 10).until(EC.element_to_be_clickable((By.CSS_SELECTOR, \"input#search\"))).send_keys(i)\n",
        "       wd.find_element_by_css_selector(\"button.style-scope.ytd-searchbox#search-icon-legacy\").click()\n",
        "       WebDriverWait(wd, 10).until(EC.element_to_be_clickable((By.CSS_SELECTOR, \"h3.title-and-badge.style-scope.ytd-video-renderer a\"))).click()\n",
        "       WebDriverWait(wd, 10).until(EC.title_contains(j))\n",
        "       print(wd.current_url) \n",
        "        \n",
        "        \n",
        "elif emotion == \"ANGRY 😡\":\n",
        "    wrds = [\"Maroon 5 - Memories\", \"The Weeknd - Blinding Lights\", \"Lloyd P White - Burst Part 2\"]\n",
        "    kwrd = [\"maroon\", \"weeknd\", \"lloyd\"]\n",
        "    options = webdriver.ChromeOptions()\n",
        "    options.add_argument(\"start-maximized\")\n",
        "    options.add_argument(\"disable-infobars\")\n",
        "    options.add_argument(\"--disable-extensions\")\n",
        "    wd = webdriver.Chrome('chromedriver',chrome_options=chrome_options)\n",
        "    for i, j in zip(wrds, kwrd):\n",
        "       wd.get(\"https://www.youtube.com/\")\n",
        "       WebDriverWait(wd, 10).until(EC.element_to_be_clickable((By.CSS_SELECTOR, \"input#se6\n",
        "       archarch\"))).send_keys(i)\n",
        "       wd.find_element_by_css_selector(\"button.style-scope.ytd-searchbox#search-icon-legacy\").click()\n",
        "       WebDriverWait(wd, 10).until(EC.element_to_be_clickable((By.CSS_SELECTOR, \"h3.title-and-badge.style-scope.ytd-video-renderer a\"))).click()\n",
        "       WebDriverWait(wd, 10).until(EC.title_contains(j))\n",
        "       print(wd.current_url) \n",
        "\n",
        "elif emotion == \"SAD 🙁\":\n",
        "    wrds = [\"I'll Meet You There - Sapajou\", \"Relax - Markvard\", \"Wake Up (feat. ROMY DYA) - Wataboi\"]\n",
        "    kwrd = [\"I'll Meet You There\", \"Relax\", \"Wake Up\"]\n",
        "    options = webdriver.ChromeOptions()\n",
        "    options.add_argument(\"start-maximized\")\n",
        "    options.add_argument(\"disable-infobars\")\n",
        "    options.add_argument(\"--disable-extensions\")\n",
        "    wd = webdriver.Chrome('chromedriver',chrome_options=chrome_options)\n",
        "    for i, j in zip(wrds, kwrd):\n",
        "       wd.get(\"https://www.youtube.com/\")\n",
        "       WebDriverWait(wd, 10).until(EC.element_to_be_clickable((By.CSS_SELECTOR, \"input#search\"))).send_keys(i)\n",
        "       wd.find_element_by_css_selector(\"button.style-scope.ytd-searchbox#search-icon-legacy\").click()\n",
        "       WebDriverWait(wd, 10).until(EC.element_to_be_clickable((By.CSS_SELECTOR, \"h3.title-and-badge.style-scope.ytd-video-renderer a\"))).click()\n",
        "       WebDriverWait(wd, 10).until(EC.title_contains(j))\n",
        "       print(wd.current_url) \n",
        "\n",
        "elif emotion == \"NEUTRAL 😐\":\n",
        "    wrds = [\"Becky Hill - Space\", \"Justin Bieber & benny blanco - Lonely\", \"Little Mix - Happiness\"]\n",
        "    kwrd = [\"Becky Hill\", \"Justin Bieber & benny blanco\", \"Little Mix\"]\n",
        "    options = webdriver.ChromeOptions()\n",
        "    options.add_argument(\"start-maximized\")\n",
        "    options.add_argument(\"disable-infobars\")\n",
        "    options.add_argument(\"--disable-extensions\")\n",
        "    wd = webdriver.Chrome('chromedriver',chrome_options=chrome_options)\n",
        "    for i, j in zip(wrds, kwrd):\n",
        "       wd.get(\"https://www.youtube.com/\")\n",
        "       WebDriverWait(wd, 10).until(EC.element_to_be_clickable((By.CSS_SELECTOR, \"input#search\"))).send_keys(i)\n",
        "       wd.find_element_by_css_selector(\"button.style-scope.ytd-searchbox#search-icon-legacy\").click()\n",
        "       WebDriverWait(wd, 10).until(EC.element_to_be_clickable((By.CSS_SELECTOR, \"h3.title-and-badge.style-scope.ytd-video-renderer a\"))).click()\n",
        "       WebDriverWait(wd, 10).until(EC.title_contains(j))\n",
        "       print(wd.current_url) "
      ],
      "execution_count": null,
      "outputs": [
        {
          "output_type": "stream",
          "text": [
            "/usr/local/lib/python3.6/dist-packages/ipykernel_launcher.py:46: DeprecationWarning: use options instead of chrome_options\n"
          ],
          "name": "stderr"
        },
        {
          "output_type": "stream",
          "text": [
            "https://www.youtube.com/watch?v=P2mC5i3V0G8\n",
            "https://www.youtube.com/watch?v=O1TefQahcHg\n",
            "https://www.youtube.com/watch?v=EChOp4h8VU0\n"
          ],
          "name": "stdout"
        }
      ]
    },
    {
      "cell_type": "code",
      "metadata": {
        "id": "TWKuZbpl0yt6"
      },
      "source": [
        "2"
      ],
      "execution_count": null,
      "outputs": []
    }
  ]
}